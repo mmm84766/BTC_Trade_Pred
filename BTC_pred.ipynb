{
 "cells": [
  {
   "cell_type": "code",
   "execution_count": 2,
   "metadata": {
    "_cell_guid": "b1076dfc-b9ad-4769-8c92-a6c4dae69d19",
    "_uuid": "8f2839f25d086af736a60e9eeb907d3b93b6e0e5",
    "colab": {},
    "colab_type": "code",
    "id": "TWakNO6HWDlO"
   },
   "outputs": [],
   "source": [
    "import numpy as np # linear algebra\n",
    "import pandas as pd # data processing, CSV file I/O (e.g. pd.read_csv)\n",
    "import matplotlib.pyplot as plt\n",
    "%matplotlib inline\n",
    "\n",
    "# Input data files are available in the \"../input/\" directory.\n",
    "# For example, running this (by clicking run or pressing Shift+Enter) will list the files in the input directory\n",
    "import warnings\n",
    "warnings.filterwarnings(\"ignore\")"
   ]
  },
  {
   "cell_type": "code",
   "execution_count": 1,
   "metadata": {
    "_cell_guid": "79c7e3d0-c299-4dcb-8224-4455121ee9b0",
    "_uuid": "d629ff2d2480ee46fbb7e2d37f6b5fab8052498a",
    "colab": {},
    "colab_type": "code",
    "id": "g8avz_10WDl9"
   },
   "outputs": [
    {
     "ename": "NameError",
     "evalue": "name 'pd' is not defined",
     "output_type": "error",
     "traceback": [
      "\u001b[0;31m---------------------------------------------------------------------------\u001b[0m",
      "\u001b[0;31mNameError\u001b[0m                                 Traceback (most recent call last)",
      "\u001b[0;32m<ipython-input-1-4ee387f828fd>\u001b[0m in \u001b[0;36m<module>\u001b[0;34m\u001b[0m\n\u001b[0;32m----> 1\u001b[0;31m \u001b[0mbit_data\u001b[0m\u001b[0;34m=\u001b[0m\u001b[0mpd\u001b[0m\u001b[0;34m.\u001b[0m\u001b[0mread_csv\u001b[0m\u001b[0;34m(\u001b[0m\u001b[0;34m'bitstampUSD_1-min_data_2012-01-01_to_2019-03-13.csv'\u001b[0m\u001b[0;34m)\u001b[0m\u001b[0;34m\u001b[0m\u001b[0;34m\u001b[0m\u001b[0m\n\u001b[0m\u001b[1;32m      2\u001b[0m \u001b[0mbit_data\u001b[0m\u001b[0;34m[\u001b[0m\u001b[0;34m\"date\"\u001b[0m\u001b[0;34m]\u001b[0m\u001b[0;34m=\u001b[0m\u001b[0mpd\u001b[0m\u001b[0;34m.\u001b[0m\u001b[0mto_datetime\u001b[0m\u001b[0;34m(\u001b[0m\u001b[0mbit_data\u001b[0m\u001b[0;34m[\u001b[0m\u001b[0;34m\"Timestamp\"\u001b[0m\u001b[0;34m]\u001b[0m\u001b[0;34m,\u001b[0m\u001b[0munit\u001b[0m\u001b[0;34m=\u001b[0m\u001b[0;34m\"s\"\u001b[0m\u001b[0;34m)\u001b[0m\u001b[0;34m.\u001b[0m\u001b[0mdt\u001b[0m\u001b[0;34m.\u001b[0m\u001b[0mdate\u001b[0m\u001b[0;34m\u001b[0m\u001b[0;34m\u001b[0m\u001b[0m\n\u001b[1;32m      3\u001b[0m \u001b[0mgroup\u001b[0m\u001b[0;34m=\u001b[0m\u001b[0mbit_data\u001b[0m\u001b[0;34m.\u001b[0m\u001b[0mgroupby\u001b[0m\u001b[0;34m(\u001b[0m\u001b[0;34m\"date\"\u001b[0m\u001b[0;34m)\u001b[0m\u001b[0;34m\u001b[0m\u001b[0;34m\u001b[0m\u001b[0m\n\u001b[1;32m      4\u001b[0m \u001b[0mdata\u001b[0m\u001b[0;34m=\u001b[0m\u001b[0mgroup\u001b[0m\u001b[0;34m[\u001b[0m\u001b[0;34m\"Close\"\u001b[0m\u001b[0;34m]\u001b[0m\u001b[0;34m.\u001b[0m\u001b[0mmean\u001b[0m\u001b[0;34m(\u001b[0m\u001b[0;34m)\u001b[0m\u001b[0;34m\u001b[0m\u001b[0;34m\u001b[0m\u001b[0m\n",
      "\u001b[0;31mNameError\u001b[0m: name 'pd' is not defined"
     ]
    }
   ],
   "source": [
    "bit_data=pd.read_csv('bitstampUSD_1-min_data_2012-01-01_to_2019-03-13.csv')\n",
    "bit_data[\"date\"]=pd.to_datetime(bit_data[\"Timestamp\"],unit=\"s\").dt.date\n",
    "group=bit_data.groupby(\"date\")\n",
    "data=group[\"Close\"].mean()"
   ]
  },
  {
   "cell_type": "markdown",
   "metadata": {
    "_uuid": "fcb79be1ca66fff1bb9186622afafa3ff1976d76",
    "colab_type": "text",
    "id": "JmHwrajUWDmk"
   },
   "source": [
    "What I did here? I added a colum which is \"date\" and I converted \"Timestamp\" columns to date form."
   ]
  },
  {
   "cell_type": "code",
   "execution_count": 6,
   "metadata": {
    "_uuid": "1a5deff671724737f5cf6563da1f9bcc383fea29",
    "colab": {
     "base_uri": "https://localhost:8080/",
     "height": 34
    },
    "colab_type": "code",
    "id": "5NBuSMQcWDmw",
    "outputId": "19fd7a3e-5a58-4621-e8ae-b6b7d4f05640"
   },
   "outputs": [
    {
     "data": {
      "text/plain": [
       "(2627,)"
      ]
     },
     "execution_count": 6,
     "metadata": {
      "tags": []
     },
     "output_type": "execute_result"
    }
   ],
   "source": [
    "data.shape"
   ]
  },
  {
   "cell_type": "code",
   "execution_count": 7,
   "metadata": {
    "_uuid": "ef6c5d1afd2e2ad8f8db6502d6ab19dd5536f4df",
    "colab": {
     "base_uri": "https://localhost:8080/",
     "height": 34
    },
    "colab_type": "code",
    "id": "1BCtiwNjWDnT",
    "outputId": "c9425ad4-9e5b-41e5-cea0-ae7fff8a1b2a"
   },
   "outputs": [
    {
     "data": {
      "text/plain": [
       "0"
      ]
     },
     "execution_count": 7,
     "metadata": {
      "tags": []
     },
     "output_type": "execute_result"
    }
   ],
   "source": [
    "data.isnull().sum()"
   ]
  },
  {
   "cell_type": "code",
   "execution_count": 8,
   "metadata": {
    "_uuid": "a33c39a4aa1e344c8fa50d2ca56961c37b0ebf65",
    "colab": {
     "base_uri": "https://localhost:8080/",
     "height": 139
    },
    "colab_type": "code",
    "id": "v_ZOlvPgWDnz",
    "outputId": "36f11c93-0105-428b-bf49-7b2fd1370e3c"
   },
   "outputs": [
    {
     "data": {
      "text/plain": [
       "date\n",
       "2011-12-31    4.482500\n",
       "2012-01-01    4.806667\n",
       "2012-01-02    5.000000\n",
       "2012-01-03    5.252500\n",
       "2012-01-04    5.223333\n",
       "Name: Close, dtype: float64"
      ]
     },
     "execution_count": 8,
     "metadata": {
      "tags": []
     },
     "output_type": "execute_result"
    }
   ],
   "source": [
    "data.head()"
   ]
  },
  {
   "cell_type": "markdown",
   "metadata": {
    "_uuid": "05cc03451f03406b8c1138bee571ada74a1de08b",
    "colab_type": "text",
    "id": "aqDpY-FPWDoU"
   },
   "source": [
    "The goal is making a prediction of daily Close data. So we will predict \"close\" values of bitcoin data"
   ]
  },
  {
   "cell_type": "markdown",
   "metadata": {
    "_uuid": "34da6f362adbd1c072fa82e4b10818fa79f8f2cb",
    "colab_type": "text",
    "id": "Wa34eUnyWDob"
   },
   "source": [
    "**First I will use RNN to predict our data**"
   ]
  },
  {
   "cell_type": "markdown",
   "metadata": {
    "_uuid": "a41a90996c44e924ec017ff19af7fe892a51ede0",
    "colab_type": "text",
    "id": "-v7L9h2WWDoh"
   },
   "source": [
    "I am separating last 50 rows as the test data."
   ]
  },
  {
   "cell_type": "code",
   "execution_count": 0,
   "metadata": {
    "_uuid": "757a234889f2a67e648db4273c4a4c4db74d803a",
    "colab": {},
    "colab_type": "code",
    "id": "JulmTxiuWDon"
   },
   "outputs": [],
   "source": [
    "close_train=data.iloc[:len(data)-50]\n",
    "close_test=data.iloc[len(close_train):]"
   ]
  },
  {
   "cell_type": "markdown",
   "metadata": {
    "_uuid": "73b47c588fa00f144c1a87c335d0babe45918a10",
    "colab_type": "text",
    "id": "9j2Py7lTWDo9"
   },
   "source": [
    "Here I will set our values between 0-1 in order to avoid domination of high values."
   ]
  },
  {
   "cell_type": "code",
   "execution_count": 0,
   "metadata": {
    "_uuid": "d30f46e2cdcaa483eb9bce041ba08a898cdd1533",
    "colab": {},
    "colab_type": "code",
    "id": "nOKe3lz_WDpL"
   },
   "outputs": [],
   "source": [
    "#feature scalling (set values between 0-1)\n",
    "close_train=np.array(close_train)\n",
    "close_train=close_train.reshape(close_train.shape[0],1)\n",
    "from sklearn.preprocessing import MinMaxScaler\n",
    "scaler=MinMaxScaler(feature_range=(0,1))\n",
    "close_scaled=scaler.fit_transform(close_train)"
   ]
  },
  {
   "cell_type": "markdown",
   "metadata": {
    "_uuid": "ac63ba26bca53cf1f5df75c31d3dc6268f27eaeb",
    "colab_type": "text",
    "id": "H3-CqlD3WDph"
   },
   "source": [
    "Let's choose each 50 data as x-train and 51th as y-train"
   ]
  },
  {
   "cell_type": "code",
   "execution_count": 11,
   "metadata": {
    "_uuid": "7874ac0b39a80e5d013d4c9cdc19f59c93d0440a",
    "colab": {
     "base_uri": "https://localhost:8080/",
     "height": 52
    },
    "colab_type": "code",
    "id": "TPSfAKY0WDpo",
    "outputId": "20829da8-603f-4f62-8dd9-f720cd93bad8",
    "scrolled": true
   },
   "outputs": [
    {
     "name": "stdout",
     "output_type": "stream",
     "text": [
      "x_train shape=  (2527, 50, 1)\n",
      "y_train shape=  (2527,)\n"
     ]
    }
   ],
   "source": [
    "timestep=50\n",
    "x_train=[]\n",
    "y_train=[]\n",
    "\n",
    "for i in range(timestep,close_scaled.shape[0]):\n",
    "    x_train.append(close_scaled[i-timestep:i,0])\n",
    "    y_train.append(close_scaled[i,0])\n",
    "\n",
    "x_train,y_train=np.array(x_train),np.array(y_train)\n",
    "x_train=x_train.reshape(x_train.shape[0],x_train.shape[1],1) #reshaped for RNN\n",
    "print(\"x_train shape= \",x_train.shape)\n",
    "print(\"y_train shape= \",y_train.shape)"
   ]
  },
  {
   "cell_type": "markdown",
   "metadata": {
    "_uuid": "246a5606d4768110cd8c56ece1b93ff0d3c1a9fa",
    "colab_type": "text",
    "id": "j2mxAIuEWDp8"
   },
   "source": [
    "Time to prepare and run our RNN method"
   ]
  },
  {
   "cell_type": "code",
   "execution_count": 12,
   "metadata": {
    "_kg_hide-output": true,
    "_uuid": "95e9302fe14e8af6e55d3c32775ba8e266b839cd",
    "colab": {
     "base_uri": "https://localhost:8080/",
     "height": 1000
    },
    "colab_type": "code",
    "id": "bF4nRVs5WDqF",
    "outputId": "53551a8e-5981-4147-ffcc-32c64464d9db",
    "scrolled": false
   },
   "outputs": [
    {
     "name": "stderr",
     "output_type": "stream",
     "text": [
      "Using TensorFlow backend.\n"
     ]
    },
    {
     "data": {
      "text/html": [
       "<p style=\"color: red;\">\n",
       "The default version of TensorFlow in Colab will soon switch to TensorFlow 2.x.<br>\n",
       "We recommend you <a href=\"https://www.tensorflow.org/guide/migrate\" target=\"_blank\">upgrade</a> now \n",
       "or ensure your notebook will continue to use TensorFlow 1.x via the <code>%tensorflow_version 1.x</code> magic:\n",
       "<a href=\"https://colab.research.google.com/notebooks/tensorflow_version.ipynb\" target=\"_blank\">more info</a>.</p>\n"
      ],
      "text/plain": [
       "<IPython.core.display.HTML object>"
      ]
     },
     "metadata": {
      "tags": []
     },
     "output_type": "display_data"
    },
    {
     "name": "stdout",
     "output_type": "stream",
     "text": [
      "WARNING:tensorflow:From /usr/local/lib/python3.6/dist-packages/keras/backend/tensorflow_backend.py:66: The name tf.get_default_graph is deprecated. Please use tf.compat.v1.get_default_graph instead.\n",
      "\n",
      "WARNING:tensorflow:From /usr/local/lib/python3.6/dist-packages/keras/backend/tensorflow_backend.py:541: The name tf.placeholder is deprecated. Please use tf.compat.v1.placeholder instead.\n",
      "\n",
      "WARNING:tensorflow:From /usr/local/lib/python3.6/dist-packages/keras/backend/tensorflow_backend.py:4432: The name tf.random_uniform is deprecated. Please use tf.random.uniform instead.\n",
      "\n",
      "WARNING:tensorflow:From /usr/local/lib/python3.6/dist-packages/keras/backend/tensorflow_backend.py:148: The name tf.placeholder_with_default is deprecated. Please use tf.compat.v1.placeholder_with_default instead.\n",
      "\n",
      "WARNING:tensorflow:From /usr/local/lib/python3.6/dist-packages/keras/backend/tensorflow_backend.py:3733: calling dropout (from tensorflow.python.ops.nn_ops) with keep_prob is deprecated and will be removed in a future version.\n",
      "Instructions for updating:\n",
      "Please use `rate` instead of `keep_prob`. Rate should be set to `rate = 1 - keep_prob`.\n",
      "WARNING:tensorflow:From /usr/local/lib/python3.6/dist-packages/keras/optimizers.py:793: The name tf.train.Optimizer is deprecated. Please use tf.compat.v1.train.Optimizer instead.\n",
      "\n",
      "WARNING:tensorflow:From /usr/local/lib/python3.6/dist-packages/keras/backend/tensorflow_backend.py:1033: The name tf.assign_add is deprecated. Please use tf.compat.v1.assign_add instead.\n",
      "\n",
      "WARNING:tensorflow:From /usr/local/lib/python3.6/dist-packages/keras/backend/tensorflow_backend.py:1020: The name tf.assign is deprecated. Please use tf.compat.v1.assign instead.\n",
      "\n",
      "WARNING:tensorflow:From /usr/local/lib/python3.6/dist-packages/keras/backend/tensorflow_backend.py:3005: The name tf.Session is deprecated. Please use tf.compat.v1.Session instead.\n",
      "\n",
      "Epoch 1/100\n",
      "WARNING:tensorflow:From /usr/local/lib/python3.6/dist-packages/keras/backend/tensorflow_backend.py:190: The name tf.get_default_session is deprecated. Please use tf.compat.v1.get_default_session instead.\n",
      "\n",
      "WARNING:tensorflow:From /usr/local/lib/python3.6/dist-packages/keras/backend/tensorflow_backend.py:197: The name tf.ConfigProto is deprecated. Please use tf.compat.v1.ConfigProto instead.\n",
      "\n",
      "WARNING:tensorflow:From /usr/local/lib/python3.6/dist-packages/keras/backend/tensorflow_backend.py:207: The name tf.global_variables is deprecated. Please use tf.compat.v1.global_variables instead.\n",
      "\n",
      "WARNING:tensorflow:From /usr/local/lib/python3.6/dist-packages/keras/backend/tensorflow_backend.py:216: The name tf.is_variable_initialized is deprecated. Please use tf.compat.v1.is_variable_initialized instead.\n",
      "\n",
      "WARNING:tensorflow:From /usr/local/lib/python3.6/dist-packages/keras/backend/tensorflow_backend.py:223: The name tf.variables_initializer is deprecated. Please use tf.compat.v1.variables_initializer instead.\n",
      "\n",
      "2527/2527 [==============================] - 12s 5ms/step - loss: 0.0168\n",
      "Epoch 2/100\n",
      "2527/2527 [==============================] - 6s 2ms/step - loss: 0.0026\n",
      "Epoch 3/100\n",
      "2527/2527 [==============================] - 5s 2ms/step - loss: 0.0017\n",
      "Epoch 4/100\n",
      "2527/2527 [==============================] - 5s 2ms/step - loss: 0.0016\n",
      "Epoch 5/100\n",
      "2527/2527 [==============================] - 6s 2ms/step - loss: 0.0011\n",
      "Epoch 6/100\n",
      "2527/2527 [==============================] - 5s 2ms/step - loss: 9.6372e-04\n",
      "Epoch 7/100\n",
      "2527/2527 [==============================] - 5s 2ms/step - loss: 8.3680e-04\n",
      "Epoch 8/100\n",
      "2527/2527 [==============================] - 5s 2ms/step - loss: 8.2817e-04\n",
      "Epoch 9/100\n",
      "2527/2527 [==============================] - 6s 2ms/step - loss: 8.4453e-04\n",
      "Epoch 10/100\n",
      "2527/2527 [==============================] - 6s 2ms/step - loss: 8.4824e-04\n",
      "Epoch 11/100\n",
      "2527/2527 [==============================] - 6s 2ms/step - loss: 8.3107e-04\n",
      "Epoch 12/100\n",
      "2527/2527 [==============================] - 5s 2ms/step - loss: 0.0010\n",
      "Epoch 13/100\n",
      "2527/2527 [==============================] - 5s 2ms/step - loss: 9.3511e-04\n",
      "Epoch 14/100\n",
      "2527/2527 [==============================] - 5s 2ms/step - loss: 6.0857e-04\n",
      "Epoch 15/100\n",
      "2527/2527 [==============================] - 5s 2ms/step - loss: 7.7402e-04\n",
      "Epoch 16/100\n",
      "2527/2527 [==============================] - 5s 2ms/step - loss: 5.8633e-04\n",
      "Epoch 17/100\n",
      "2527/2527 [==============================] - 5s 2ms/step - loss: 5.5250e-04\n",
      "Epoch 18/100\n",
      "2527/2527 [==============================] - 5s 2ms/step - loss: 6.1617e-04\n",
      "Epoch 19/100\n",
      "2527/2527 [==============================] - 5s 2ms/step - loss: 7.2729e-04\n",
      "Epoch 20/100\n",
      "2527/2527 [==============================] - 5s 2ms/step - loss: 5.0479e-04\n",
      "Epoch 21/100\n",
      "2527/2527 [==============================] - 5s 2ms/step - loss: 5.0746e-04\n",
      "Epoch 22/100\n",
      "2527/2527 [==============================] - 6s 2ms/step - loss: 5.1458e-04\n",
      "Epoch 23/100\n",
      "2527/2527 [==============================] - 6s 2ms/step - loss: 5.2193e-04\n",
      "Epoch 24/100\n",
      "2527/2527 [==============================] - 5s 2ms/step - loss: 6.2925e-04\n",
      "Epoch 25/100\n",
      "2527/2527 [==============================] - 5s 2ms/step - loss: 5.2106e-04\n",
      "Epoch 26/100\n",
      "2527/2527 [==============================] - 5s 2ms/step - loss: 5.5185e-04\n",
      "Epoch 27/100\n",
      "2527/2527 [==============================] - 5s 2ms/step - loss: 6.1131e-04\n",
      "Epoch 28/100\n",
      "2527/2527 [==============================] - 5s 2ms/step - loss: 4.9827e-04\n",
      "Epoch 29/100\n",
      "2527/2527 [==============================] - 5s 2ms/step - loss: 5.0283e-04\n",
      "Epoch 30/100\n",
      "2527/2527 [==============================] - 5s 2ms/step - loss: 3.8776e-04\n",
      "Epoch 31/100\n",
      "2527/2527 [==============================] - 5s 2ms/step - loss: 4.8979e-04\n",
      "Epoch 32/100\n",
      "2527/2527 [==============================] - 5s 2ms/step - loss: 4.5575e-04\n",
      "Epoch 33/100\n",
      "2527/2527 [==============================] - 5s 2ms/step - loss: 5.3125e-04\n",
      "Epoch 34/100\n",
      "2527/2527 [==============================] - 5s 2ms/step - loss: 4.5423e-04\n",
      "Epoch 35/100\n",
      "2527/2527 [==============================] - 5s 2ms/step - loss: 4.4632e-04\n",
      "Epoch 36/100\n",
      "2527/2527 [==============================] - 5s 2ms/step - loss: 4.9099e-04\n",
      "Epoch 37/100\n",
      "2527/2527 [==============================] - 5s 2ms/step - loss: 4.6319e-04\n",
      "Epoch 38/100\n",
      "2527/2527 [==============================] - 5s 2ms/step - loss: 0.0014\n",
      "Epoch 39/100\n",
      "2527/2527 [==============================] - 5s 2ms/step - loss: 4.9961e-04\n",
      "Epoch 40/100\n",
      "2527/2527 [==============================] - 5s 2ms/step - loss: 5.6253e-04\n",
      "Epoch 41/100\n",
      "2527/2527 [==============================] - 5s 2ms/step - loss: 3.8097e-04\n",
      "Epoch 42/100\n",
      "2527/2527 [==============================] - 5s 2ms/step - loss: 4.1977e-04\n",
      "Epoch 43/100\n",
      "2527/2527 [==============================] - 5s 2ms/step - loss: 5.1871e-04\n",
      "Epoch 44/100\n",
      "2527/2527 [==============================] - 5s 2ms/step - loss: 3.9530e-04\n",
      "Epoch 45/100\n",
      "2527/2527 [==============================] - 5s 2ms/step - loss: 3.4431e-04\n",
      "Epoch 46/100\n",
      "2527/2527 [==============================] - 5s 2ms/step - loss: 5.2967e-04\n",
      "Epoch 47/100\n",
      "2527/2527 [==============================] - 5s 2ms/step - loss: 4.1423e-04\n",
      "Epoch 48/100\n",
      "2527/2527 [==============================] - 5s 2ms/step - loss: 4.8228e-04\n",
      "Epoch 49/100\n",
      "2527/2527 [==============================] - 5s 2ms/step - loss: 3.3674e-04\n",
      "Epoch 50/100\n",
      "2527/2527 [==============================] - 5s 2ms/step - loss: 6.1176e-04\n",
      "Epoch 51/100\n",
      "2527/2527 [==============================] - 5s 2ms/step - loss: 3.7752e-04\n",
      "Epoch 52/100\n",
      "2527/2527 [==============================] - 5s 2ms/step - loss: 3.5931e-04\n",
      "Epoch 53/100\n",
      "2527/2527 [==============================] - 5s 2ms/step - loss: 2.7055e-04\n",
      "Epoch 54/100\n",
      "2527/2527 [==============================] - 5s 2ms/step - loss: 2.8210e-04\n",
      "Epoch 55/100\n",
      "2527/2527 [==============================] - 5s 2ms/step - loss: 3.6278e-04\n",
      "Epoch 56/100\n",
      "2527/2527 [==============================] - 5s 2ms/step - loss: 3.0904e-04\n",
      "Epoch 57/100\n",
      "2527/2527 [==============================] - 5s 2ms/step - loss: 3.5797e-04\n",
      "Epoch 58/100\n",
      "2527/2527 [==============================] - 5s 2ms/step - loss: 4.6911e-04\n",
      "Epoch 59/100\n",
      "2527/2527 [==============================] - 5s 2ms/step - loss: 3.7352e-04\n",
      "Epoch 60/100\n",
      "2527/2527 [==============================] - 5s 2ms/step - loss: 3.0616e-04\n",
      "Epoch 61/100\n",
      "2527/2527 [==============================] - 5s 2ms/step - loss: 3.0213e-04\n",
      "Epoch 62/100\n",
      "2527/2527 [==============================] - 5s 2ms/step - loss: 3.6341e-04\n",
      "Epoch 63/100\n",
      "2527/2527 [==============================] - 5s 2ms/step - loss: 4.1486e-04\n",
      "Epoch 64/100\n",
      "2527/2527 [==============================] - 5s 2ms/step - loss: 3.2986e-04\n",
      "Epoch 65/100\n",
      "2527/2527 [==============================] - 5s 2ms/step - loss: 4.5264e-04\n",
      "Epoch 66/100\n",
      "2527/2527 [==============================] - 5s 2ms/step - loss: 3.6885e-04\n",
      "Epoch 67/100\n",
      "2527/2527 [==============================] - 5s 2ms/step - loss: 3.2023e-04\n",
      "Epoch 68/100\n",
      "2527/2527 [==============================] - 5s 2ms/step - loss: 3.6688e-04\n",
      "Epoch 69/100\n",
      "2527/2527 [==============================] - 5s 2ms/step - loss: 3.3718e-04\n",
      "Epoch 70/100\n",
      "2527/2527 [==============================] - 5s 2ms/step - loss: 2.9739e-04\n",
      "Epoch 71/100\n",
      "2527/2527 [==============================] - 5s 2ms/step - loss: 2.5744e-04\n",
      "Epoch 72/100\n",
      "2527/2527 [==============================] - 5s 2ms/step - loss: 3.6979e-04\n",
      "Epoch 73/100\n",
      "2527/2527 [==============================] - 5s 2ms/step - loss: 4.4011e-04\n",
      "Epoch 74/100\n",
      "2527/2527 [==============================] - 5s 2ms/step - loss: 3.5832e-04\n",
      "Epoch 75/100\n",
      "2527/2527 [==============================] - 5s 2ms/step - loss: 4.1642e-04\n",
      "Epoch 76/100\n",
      "2527/2527 [==============================] - 5s 2ms/step - loss: 3.2451e-04\n",
      "Epoch 77/100\n",
      "2527/2527 [==============================] - 5s 2ms/step - loss: 3.6517e-04\n",
      "Epoch 78/100\n",
      "2527/2527 [==============================] - 5s 2ms/step - loss: 2.8271e-04\n",
      "Epoch 79/100\n",
      "2527/2527 [==============================] - 5s 2ms/step - loss: 4.0582e-04\n",
      "Epoch 80/100\n",
      "2527/2527 [==============================] - 6s 2ms/step - loss: 2.9546e-04\n",
      "Epoch 81/100\n",
      "2527/2527 [==============================] - 5s 2ms/step - loss: 3.7522e-04\n",
      "Epoch 82/100\n",
      "2527/2527 [==============================] - 5s 2ms/step - loss: 3.3638e-04\n",
      "Epoch 83/100\n",
      "2527/2527 [==============================] - 5s 2ms/step - loss: 2.6937e-04\n",
      "Epoch 84/100\n",
      "2527/2527 [==============================] - 5s 2ms/step - loss: 3.6208e-04\n",
      "Epoch 85/100\n",
      "2527/2527 [==============================] - 5s 2ms/step - loss: 3.9385e-04\n",
      "Epoch 86/100\n",
      "2527/2527 [==============================] - 5s 2ms/step - loss: 4.0439e-04\n",
      "Epoch 87/100\n",
      "2527/2527 [==============================] - 5s 2ms/step - loss: 2.2854e-04\n",
      "Epoch 88/100\n",
      "2527/2527 [==============================] - 5s 2ms/step - loss: 3.2147e-04\n",
      "Epoch 89/100\n",
      "2527/2527 [==============================] - 5s 2ms/step - loss: 2.9373e-04\n",
      "Epoch 90/100\n",
      "2527/2527 [==============================] - 5s 2ms/step - loss: 2.8262e-04\n",
      "Epoch 91/100\n",
      "2527/2527 [==============================] - 5s 2ms/step - loss: 3.3275e-04\n",
      "Epoch 92/100\n",
      "2527/2527 [==============================] - 5s 2ms/step - loss: 3.5416e-04\n",
      "Epoch 93/100\n",
      "2527/2527 [==============================] - 5s 2ms/step - loss: 3.8564e-04\n",
      "Epoch 94/100\n",
      "2527/2527 [==============================] - 5s 2ms/step - loss: 2.7782e-04\n",
      "Epoch 95/100\n",
      "2527/2527 [==============================] - 5s 2ms/step - loss: 2.6022e-04\n",
      "Epoch 96/100\n",
      "2527/2527 [==============================] - 5s 2ms/step - loss: 2.4719e-04\n",
      "Epoch 97/100\n",
      "2527/2527 [==============================] - 5s 2ms/step - loss: 2.4787e-04\n",
      "Epoch 98/100\n",
      "2527/2527 [==============================] - 5s 2ms/step - loss: 3.3195e-04\n",
      "Epoch 99/100\n",
      "2527/2527 [==============================] - 5s 2ms/step - loss: 3.4877e-04\n",
      "Epoch 100/100\n",
      "2527/2527 [==============================] - 5s 2ms/step - loss: 2.6065e-04\n"
     ]
    },
    {
     "data": {
      "text/plain": [
       "<keras.callbacks.History at 0x7ffadc322550>"
      ]
     },
     "execution_count": 12,
     "metadata": {
      "tags": []
     },
     "output_type": "execute_result"
    }
   ],
   "source": [
    "from keras.models import Sequential\n",
    "from keras.layers import Dense, SimpleRNN, Dropout,Flatten\n",
    "\n",
    "regressor=Sequential()\n",
    "#first RNN layer\n",
    "regressor.add(SimpleRNN(128,activation=\"relu\",return_sequences=True,input_shape=(x_train.shape[1],1)))\n",
    "regressor.add(Dropout(0.25))\n",
    "#second RNN layer\n",
    "regressor.add(SimpleRNN(256,activation=\"relu\",return_sequences=True))\n",
    "regressor.add(Dropout(0.25))\n",
    "#third RNN layer\n",
    "regressor.add(SimpleRNN(512,activation=\"relu\",return_sequences=True))\n",
    "regressor.add(Dropout(0.35))\n",
    "#fourth RNN layer\n",
    "regressor.add(SimpleRNN(256,activation=\"relu\",return_sequences=True))\n",
    "regressor.add(Dropout(0.25))\n",
    "#fifth RNN layer\n",
    "regressor.add(SimpleRNN(128,activation=\"relu\",return_sequences=True))\n",
    "regressor.add(Dropout(0.25))\n",
    "#convert the matrix to 1-line\n",
    "regressor.add(Flatten())\n",
    "#output layer\n",
    "regressor.add(Dense(1))\n",
    "\n",
    "regressor.compile(optimizer=\"adam\",loss=\"mean_squared_error\")\n",
    "regressor.fit(x_train,y_train,epochs=100,batch_size=64)"
   ]
  },
  {
   "cell_type": "markdown",
   "metadata": {
    "_uuid": "0d1786f25bf66d0e666d23252377b5bff9196a70",
    "colab_type": "text",
    "id": "Kc6uhQriWDqj"
   },
   "source": [
    "Now we are preparing our test data for prediction"
   ]
  },
  {
   "cell_type": "code",
   "execution_count": 0,
   "metadata": {
    "_uuid": "789694f60ef54c6fe588978c7917c05f140f501e",
    "colab": {},
    "colab_type": "code",
    "id": "SH_zMu-tWDqq"
   },
   "outputs": [],
   "source": [
    "inputs=data[len(data)-len(close_test)-timestep:]\n",
    "inputs=inputs.values.reshape(-1,1)\n",
    "inputs=scaler.transform(inputs)"
   ]
  },
  {
   "cell_type": "code",
   "execution_count": 0,
   "metadata": {
    "_uuid": "b64f25de4f2c3d3e97ff67430e63b730808fb29b",
    "colab": {},
    "colab_type": "code",
    "id": "yXNZ1a3OWDrE"
   },
   "outputs": [],
   "source": [
    "x_test=[]\n",
    "for i in range(timestep,inputs.shape[0]):\n",
    "    x_test.append(inputs[i-timestep:i,0])\n",
    "x_test=np.array(x_test)\n",
    "x_test=x_test.reshape(x_test.shape[0],x_test.shape[1],1)"
   ]
  },
  {
   "cell_type": "code",
   "execution_count": 0,
   "metadata": {
    "_uuid": "ab9b3f5f19e8cdb8b6fa1be54e710fba4b4281dd",
    "colab": {},
    "colab_type": "code",
    "id": "gs041njTWDrV"
   },
   "outputs": [],
   "source": [
    "predicted_data=regressor.predict(x_test)\n",
    "predicted_data=scaler.inverse_transform(predicted_data)"
   ]
  },
  {
   "cell_type": "markdown",
   "metadata": {
    "_uuid": "84126a12f90fb2bea6a543dfea7c9225216bca32",
    "colab_type": "text",
    "id": "1aYFvXviWDru"
   },
   "source": [
    "**What did we do???? We learnt our model with train data and then we tried to predict next 50 data (train data=50). Then we compared predictions with our test (real) data.**"
   ]
  },
  {
   "cell_type": "code",
   "execution_count": 0,
   "metadata": {
    "_uuid": "e37a1a9195ba81668ee00aa47b98bda8a2e549c2",
    "colab": {},
    "colab_type": "code",
    "id": "y92OH4YRWDr6"
   },
   "outputs": [],
   "source": [
    "data_test=np.array(close_test)\n",
    "data_test=data_test.reshape(len(data_test),1)"
   ]
  },
  {
   "cell_type": "code",
   "execution_count": 17,
   "metadata": {
    "_uuid": "d14bd8d6dc5dea3a2cd0b807652f41d9a34a28d1",
    "colab": {
     "base_uri": "https://localhost:8080/",
     "height": 306
    },
    "colab_type": "code",
    "id": "_oIj-DINWDsQ",
    "outputId": "4a28e312-552a-464f-f400-c43cafa0feb5",
    "scrolled": true
   },
   "outputs": [
    {
     "data": {
      "image/png": "[encoded data removed]",
      "text/plain": [
       "<Figure size 640x320 with 1 Axes>"
      ]
     },
     "metadata": {
      "tags": []
     },
     "output_type": "display_data"
    }
   ],
   "source": [
    "plt.figure(figsize=(8,4), dpi=80, facecolor='w', edgecolor='k')\n",
    "plt.plot(data_test,color=\"r\",label=\"true result\")\n",
    "plt.plot(predicted_data,color=\"b\",label=\"predicted result\")\n",
    "plt.legend()\n",
    "plt.xlabel(\"Time(50 days)\")\n",
    "plt.ylabel(\"Close Values\")\n",
    "plt.grid(True)\n",
    "plt.show()"
   ]
  },
  {
   "cell_type": "markdown",
   "metadata": {
    "_uuid": "d6a9163de2304f9bceb4e4d3337ae7347a1c1144",
    "colab_type": "text",
    "id": "9uJSwEK1WDsm"
   },
   "source": [
    "Here we have the results of our prediction. As we can see on the chart that with RNN method we don't have a good result. So let's check LSTM method, then we can compare both results."
   ]
  },
  {
   "cell_type": "markdown",
   "metadata": {
    "_uuid": "a86a7a09336182de5b84b8fd747c47216090f712",
    "colab_type": "text",
    "id": "w5z6whJLWDsr"
   },
   "source": [
    "**Keep going with LSTM method**"
   ]
  },
  {
   "cell_type": "markdown",
   "metadata": {
    "_uuid": "6fbf6c5708d1ffba850644a767a33192fdd2cdd7",
    "colab_type": "text",
    "id": "ps6sMHStWDsw"
   },
   "source": [
    "I will use the same train and test data"
   ]
  },
  {
   "cell_type": "code",
   "execution_count": 18,
   "metadata": {
    "_kg_hide-output": true,
    "_uuid": "6b20a92dc41d1e62aaea366a4d0c96afe0dab1e3",
    "colab": {
     "base_uri": "https://localhost:8080/",
     "height": 1000
    },
    "colab_type": "code",
    "id": "2uIkmCLtWDs1",
    "outputId": "c2aac76d-a43d-4d74-db72-e787df46d02b",
    "scrolled": false
   },
   "outputs": [
    {
     "name": "stdout",
     "output_type": "stream",
     "text": [
      "WARNING:tensorflow:From /usr/local/lib/python3.6/dist-packages/tensorflow_core/python/ops/math_grad.py:1424: where (from tensorflow.python.ops.array_ops) is deprecated and will be removed in a future version.\n",
      "Instructions for updating:\n",
      "Use tf.where in 2.0, which has the same broadcast rule as np.where\n",
      "Epoch 1/100\n",
      "2527/2527 [==============================] - 6s 2ms/step - loss: 0.0417\n",
      "Epoch 2/100\n",
      "2527/2527 [==============================] - 5s 2ms/step - loss: 0.0302\n",
      "Epoch 3/100\n",
      "2527/2527 [==============================] - 5s 2ms/step - loss: 0.0281\n",
      "Epoch 4/100\n",
      "2527/2527 [==============================] - 5s 2ms/step - loss: 0.0277\n",
      "Epoch 5/100\n",
      "2527/2527 [==============================] - 5s 2ms/step - loss: 0.0275\n",
      "Epoch 6/100\n",
      "2527/2527 [==============================] - 5s 2ms/step - loss: 0.0274\n",
      "Epoch 7/100\n",
      "2527/2527 [==============================] - 5s 2ms/step - loss: 0.0274\n",
      "Epoch 8/100\n",
      "2527/2527 [==============================] - 5s 2ms/step - loss: 0.0274\n",
      "Epoch 9/100\n",
      "2527/2527 [==============================] - 5s 2ms/step - loss: 0.0274\n",
      "Epoch 10/100\n",
      "2527/2527 [==============================] - 5s 2ms/step - loss: 0.0274\n",
      "Epoch 11/100\n",
      "2527/2527 [==============================] - 5s 2ms/step - loss: 0.0274\n",
      "Epoch 12/100\n",
      "2527/2527 [==============================] - 5s 2ms/step - loss: 0.0274\n",
      "Epoch 13/100\n",
      "2527/2527 [==============================] - 5s 2ms/step - loss: 0.0274\n",
      "Epoch 14/100\n",
      "2527/2527 [==============================] - 5s 2ms/step - loss: 0.0274\n",
      "Epoch 15/100\n",
      "2527/2527 [==============================] - 5s 2ms/step - loss: 0.0274\n",
      "Epoch 16/100\n",
      "2527/2527 [==============================] - 5s 2ms/step - loss: 0.0274\n",
      "Epoch 17/100\n",
      "2527/2527 [==============================] - 5s 2ms/step - loss: 0.0274\n",
      "Epoch 18/100\n",
      "2527/2527 [==============================] - 5s 2ms/step - loss: 0.0274\n",
      "Epoch 19/100\n",
      "2527/2527 [==============================] - 5s 2ms/step - loss: 0.0274\n",
      "Epoch 20/100\n",
      "2527/2527 [==============================] - 5s 2ms/step - loss: 0.0274\n",
      "Epoch 21/100\n",
      "2527/2527 [==============================] - 5s 2ms/step - loss: 0.0274\n",
      "Epoch 22/100\n",
      "2527/2527 [==============================] - 5s 2ms/step - loss: 0.0274\n",
      "Epoch 23/100\n",
      "2527/2527 [==============================] - 5s 2ms/step - loss: 0.0274\n",
      "Epoch 24/100\n",
      "2527/2527 [==============================] - 5s 2ms/step - loss: 0.0274\n",
      "Epoch 25/100\n",
      "2527/2527 [==============================] - 5s 2ms/step - loss: 0.0274\n",
      "Epoch 26/100\n",
      "2527/2527 [==============================] - 5s 2ms/step - loss: 0.0274\n",
      "Epoch 27/100\n",
      "2527/2527 [==============================] - 5s 2ms/step - loss: 0.0274\n",
      "Epoch 28/100\n",
      "2527/2527 [==============================] - 5s 2ms/step - loss: 0.0274\n",
      "Epoch 29/100\n",
      "2527/2527 [==============================] - 5s 2ms/step - loss: 0.0274\n",
      "Epoch 30/100\n",
      "2527/2527 [==============================] - 5s 2ms/step - loss: 0.0274\n",
      "Epoch 31/100\n",
      "2527/2527 [==============================] - 5s 2ms/step - loss: 0.0274\n",
      "Epoch 32/100\n",
      "2527/2527 [==============================] - 5s 2ms/step - loss: 0.0274\n",
      "Epoch 33/100\n",
      "2527/2527 [==============================] - 5s 2ms/step - loss: 0.0274\n",
      "Epoch 34/100\n",
      "2527/2527 [==============================] - 5s 2ms/step - loss: 0.0274\n",
      "Epoch 35/100\n",
      "2527/2527 [==============================] - 5s 2ms/step - loss: 0.0274\n",
      "Epoch 36/100\n",
      "2527/2527 [==============================] - 5s 2ms/step - loss: 0.0274\n",
      "Epoch 37/100\n",
      "2527/2527 [==============================] - 5s 2ms/step - loss: 0.0274\n",
      "Epoch 38/100\n",
      "2527/2527 [==============================] - 5s 2ms/step - loss: 0.0274\n",
      "Epoch 39/100\n",
      "2527/2527 [==============================] - 5s 2ms/step - loss: 0.0274\n",
      "Epoch 40/100\n",
      "2527/2527 [==============================] - 5s 2ms/step - loss: 0.0274\n",
      "Epoch 41/100\n",
      "2527/2527 [==============================] - 5s 2ms/step - loss: 0.0274\n",
      "Epoch 42/100\n",
      "2527/2527 [==============================] - 5s 2ms/step - loss: 0.0274\n",
      "Epoch 43/100\n",
      "2527/2527 [==============================] - 5s 2ms/step - loss: 0.0274\n",
      "Epoch 44/100\n",
      "2527/2527 [==============================] - 5s 2ms/step - loss: 0.0274\n",
      "Epoch 45/100\n",
      "2527/2527 [==============================] - 5s 2ms/step - loss: 0.0274\n",
      "Epoch 46/100\n",
      "2527/2527 [==============================] - 5s 2ms/step - loss: 0.0274\n",
      "Epoch 47/100\n",
      "2527/2527 [==============================] - 5s 2ms/step - loss: 0.0274\n",
      "Epoch 48/100\n",
      "2527/2527 [==============================] - 5s 2ms/step - loss: 0.0274\n",
      "Epoch 49/100\n",
      "2527/2527 [==============================] - 5s 2ms/step - loss: 0.0274\n",
      "Epoch 50/100\n",
      "2527/2527 [==============================] - 5s 2ms/step - loss: 0.0274\n",
      "Epoch 51/100\n",
      "2527/2527 [==============================] - 5s 2ms/step - loss: 0.0274\n",
      "Epoch 52/100\n",
      "2527/2527 [==============================] - 5s 2ms/step - loss: 0.0274\n",
      "Epoch 53/100\n",
      "2527/2527 [==============================] - 5s 2ms/step - loss: 0.0274\n",
      "Epoch 54/100\n",
      "2527/2527 [==============================] - 5s 2ms/step - loss: 0.0274\n",
      "Epoch 55/100\n",
      "2527/2527 [==============================] - 5s 2ms/step - loss: 0.0274\n",
      "Epoch 56/100\n",
      "2527/2527 [==============================] - 5s 2ms/step - loss: 0.0274\n",
      "Epoch 57/100\n",
      "2527/2527 [==============================] - 5s 2ms/step - loss: 0.0274\n",
      "Epoch 58/100\n",
      "2527/2527 [==============================] - 5s 2ms/step - loss: 0.0274\n",
      "Epoch 59/100\n",
      "2527/2527 [==============================] - 5s 2ms/step - loss: 0.0274\n",
      "Epoch 60/100\n",
      "2527/2527 [==============================] - 5s 2ms/step - loss: 0.0274\n",
      "Epoch 61/100\n",
      "2527/2527 [==============================] - 5s 2ms/step - loss: 0.0274\n",
      "Epoch 62/100\n",
      "2527/2527 [==============================] - 5s 2ms/step - loss: 0.0274\n",
      "Epoch 63/100\n",
      "2527/2527 [==============================] - 5s 2ms/step - loss: 0.0274\n",
      "Epoch 64/100\n",
      "2527/2527 [==============================] - 5s 2ms/step - loss: 0.0274\n",
      "Epoch 65/100\n",
      "2527/2527 [==============================] - 5s 2ms/step - loss: 0.0274\n",
      "Epoch 66/100\n",
      "2527/2527 [==============================] - 5s 2ms/step - loss: 0.0274\n",
      "Epoch 67/100\n",
      "2527/2527 [==============================] - 5s 2ms/step - loss: 0.0274\n",
      "Epoch 68/100\n",
      "2527/2527 [==============================] - 5s 2ms/step - loss: 0.0274\n",
      "Epoch 69/100\n",
      "2527/2527 [==============================] - 5s 2ms/step - loss: 0.0274\n",
      "Epoch 70/100\n",
      "2527/2527 [==============================] - 5s 2ms/step - loss: 0.0274\n",
      "Epoch 71/100\n",
      "2527/2527 [==============================] - 5s 2ms/step - loss: 0.0274\n",
      "Epoch 72/100\n",
      "2527/2527 [==============================] - 5s 2ms/step - loss: 0.0274\n",
      "Epoch 73/100\n",
      "2527/2527 [==============================] - 5s 2ms/step - loss: 0.0274\n",
      "Epoch 74/100\n",
      "2527/2527 [==============================] - 5s 2ms/step - loss: 0.0274\n",
      "Epoch 75/100\n",
      "2527/2527 [==============================] - 5s 2ms/step - loss: 0.0274\n",
      "Epoch 76/100\n",
      "2527/2527 [==============================] - 5s 2ms/step - loss: 0.0274\n",
      "Epoch 77/100\n",
      "2527/2527 [==============================] - 5s 2ms/step - loss: 0.0274\n",
      "Epoch 78/100\n",
      "2527/2527 [==============================] - 5s 2ms/step - loss: 0.0274\n",
      "Epoch 79/100\n",
      "2527/2527 [==============================] - 5s 2ms/step - loss: 0.0274\n",
      "Epoch 80/100\n",
      "2527/2527 [==============================] - 5s 2ms/step - loss: 0.0274\n",
      "Epoch 81/100\n",
      "2527/2527 [==============================] - 5s 2ms/step - loss: 0.0274\n",
      "Epoch 82/100\n",
      "2527/2527 [==============================] - 5s 2ms/step - loss: 0.0274\n",
      "Epoch 83/100\n",
      "2527/2527 [==============================] - 5s 2ms/step - loss: 0.0274\n",
      "Epoch 84/100\n",
      "2527/2527 [==============================] - 5s 2ms/step - loss: 0.0274\n",
      "Epoch 85/100\n",
      "2527/2527 [==============================] - 5s 2ms/step - loss: 0.0274\n",
      "Epoch 86/100\n",
      "2527/2527 [==============================] - 5s 2ms/step - loss: 0.0274\n",
      "Epoch 87/100\n",
      "2527/2527 [==============================] - 5s 2ms/step - loss: 0.0274\n",
      "Epoch 88/100\n",
      "2527/2527 [==============================] - 5s 2ms/step - loss: 0.0274\n",
      "Epoch 89/100\n",
      "2527/2527 [==============================] - 5s 2ms/step - loss: 0.0274\n",
      "Epoch 90/100\n",
      "2527/2527 [==============================] - 5s 2ms/step - loss: 0.0274\n",
      "Epoch 91/100\n",
      "2527/2527 [==============================] - 5s 2ms/step - loss: 0.0274\n",
      "Epoch 92/100\n",
      "2527/2527 [==============================] - 5s 2ms/step - loss: 0.0274\n",
      "Epoch 93/100\n",
      "2527/2527 [==============================] - 5s 2ms/step - loss: 0.0274\n",
      "Epoch 94/100\n",
      "2527/2527 [==============================] - 5s 2ms/step - loss: 0.0274\n",
      "Epoch 95/100\n",
      "2527/2527 [==============================] - 5s 2ms/step - loss: 0.0274\n",
      "Epoch 96/100\n",
      "2527/2527 [==============================] - 5s 2ms/step - loss: 0.0274\n",
      "Epoch 97/100\n",
      "2527/2527 [==============================] - 5s 2ms/step - loss: 0.0274\n",
      "Epoch 98/100\n",
      "2527/2527 [==============================] - 5s 2ms/step - loss: 0.0274\n",
      "Epoch 99/100\n",
      "2527/2527 [==============================] - 5s 2ms/step - loss: 0.0274\n",
      "Epoch 100/100\n",
      "2527/2527 [==============================] - 5s 2ms/step - loss: 0.0274\n"
     ]
    },
    {
     "data": {
      "text/plain": [
       "<keras.callbacks.History at 0x7ffa750b2630>"
      ]
     },
     "execution_count": 18,
     "metadata": {
      "tags": []
     },
     "output_type": "execute_result"
    }
   ],
   "source": [
    "from sklearn.metrics import mean_absolute_error\n",
    "from keras.models import Sequential\n",
    "from keras.layers import Dense, LSTM, Dropout,Flatten\n",
    "\n",
    "model=Sequential()\n",
    "\n",
    "model.add(LSTM(10,input_shape=(None,1),activation=\"relu\"))\n",
    "\n",
    "model.add(Dense(1))\n",
    "\n",
    "model.compile(loss=\"mean_squared_error\",optimizer=\"adam\")\n",
    "\n",
    "model.fit(x_train,y_train,epochs=100,batch_size=32)"
   ]
  },
  {
   "cell_type": "markdown",
   "metadata": {
    "_uuid": "add16d8c9ba53ae8abccfb8e46f33c6586e0ca65",
    "colab_type": "text",
    "id": "VVgBOngZWDtH"
   },
   "source": [
    "Keep going with test data"
   ]
  },
  {
   "cell_type": "code",
   "execution_count": 0,
   "metadata": {
    "_uuid": "3565fca8454345628ef64e3c04478463fca1ff74",
    "colab": {},
    "colab_type": "code",
    "id": "JZZF-Km0WDtL"
   },
   "outputs": [],
   "source": [
    "inputs=data[len(data)-len(close_test)-timestep:]\n",
    "inputs=inputs.values.reshape(-1,1)\n",
    "inputs=scaler.transform(inputs)"
   ]
  },
  {
   "cell_type": "code",
   "execution_count": 0,
   "metadata": {
    "_uuid": "46cde05f13fb1ca04c2d0c980d1644d975dd3870",
    "colab": {},
    "colab_type": "code",
    "id": "YGOJtf3DWDta"
   },
   "outputs": [],
   "source": [
    "x_test=[]\n",
    "for i in range(timestep,inputs.shape[0]):\n",
    "    x_test.append(inputs[i-timestep:i,0])\n",
    "x_test=np.array(x_test)\n",
    "x_test=x_test.reshape(x_test.shape[0],x_test.shape[1],1)"
   ]
  },
  {
   "cell_type": "markdown",
   "metadata": {
    "_uuid": "62794ffaa6a6b6bc64232424c03436edbb7b6825",
    "colab_type": "text",
    "id": "Vr_QCiIpWDuL"
   },
   "source": [
    "it's time to predict"
   ]
  },
  {
   "cell_type": "code",
   "execution_count": 0,
   "metadata": {
    "_uuid": "a837c6f9642fba4332ec63e89f99d2a876f6ea3f",
    "colab": {},
    "colab_type": "code",
    "id": "vbZ4RMFGWDuP"
   },
   "outputs": [],
   "source": [
    "predicted_data=model.predict(x_test)\n",
    "predicted_data=scaler.inverse_transform(predicted_data)"
   ]
  },
  {
   "cell_type": "code",
   "execution_count": 0,
   "metadata": {
    "_uuid": "7111f36c85adace9f4d965d6dbe9fc4cf344139b",
    "colab": {},
    "colab_type": "code",
    "id": "omoAVY-lWDub"
   },
   "outputs": [],
   "source": [
    "data_test=np.array(close_test)\n",
    "data_test=data_test.reshape(len(data_test),1)"
   ]
  },
  {
   "cell_type": "code",
   "execution_count": 23,
   "metadata": {
    "_uuid": "fa7d96f41874e8d3207f30ddb50e0b9c658e759a",
    "colab": {
     "base_uri": "https://localhost:8080/",
     "height": 306
    },
    "colab_type": "code",
    "id": "dq_0qTfxWDus",
    "outputId": "67166929-8538-4fe7-852c-06e32aa35104"
   },
   "outputs": [
    {
     "data": {
      "image/png": "[encoded data removed]",
      "text/plain": [
       "<Figure size 640x320 with 1 Axes>"
      ]
     },
     "metadata": {
      "tags": []
     },
     "output_type": "display_data"
    }
   ],
   "source": [
    "plt.figure(figsize=(8,4), dpi=80, facecolor='w', edgecolor='k')\n",
    "plt.plot(data_test,color=\"r\",label=\"true result\")\n",
    "plt.plot(predicted_data,color=\"b\",label=\"predicted result\")\n",
    "plt.legend()\n",
    "plt.xlabel(\"Time(50 days)\")\n",
    "plt.ylabel(\"Close Values\")\n",
    "plt.grid(True)\n",
    "plt.show()"
   ]
  },
  {
   "cell_type": "markdown",
   "metadata": {
    "_uuid": "76aa7f58212d6a4f3453f33eea23c4fbec6f4c42",
    "colab_type": "text",
    "id": "4kZ7TxoBWDu2"
   },
   "source": [
    "* ** Conclusion**\n",
    "\n",
    "When we compare the both results (RNN and LSTM) we can see that we have better prediction with LSTM. \n",
    "\n",
    "Up to here I was trying to show the differences between RNN - LSTM and how to use these methods on time series. \n"
   ]
  }
 ],
 "metadata": {
  "accelerator": "GPU",
  "colab": {
   "name": "RNN vs LSTM on Bitcoin dataset.ipynb",
   "provenance": []
  },
  "kernelspec": {
   "display_name": "Python 3",
   "language": "python",
   "name": "python3"
  },
  "language_info": {
   "codemirror_mode": {
    "name": "ipython",
    "version": 3
   },
   "file_extension": ".py",
   "mimetype": "text/x-python",
   "name": "python",
   "nbconvert_exporter": "python",
   "pygments_lexer": "ipython3",
   "version": "3.6.8"
  }
 },
 "nbformat": 4,
 "nbformat_minor": 1
}
